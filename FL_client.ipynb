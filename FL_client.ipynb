{
 "cells": [
  {
   "cell_type": "code",
   "execution_count": 35,
   "id": "66e82ae0",
   "metadata": {},
   "outputs": [
    {
     "name": "stdout",
     "output_type": "stream",
     "text": [
      "Syft is imported\n"
     ]
    }
   ],
   "source": [
    "try:\n",
    "   import syft as sy\n",
    "   print(\"Syft is imported\")\n",
    "except:\n",
    "   print(\"Syft is not installed. Please use the 🧙🏽‍♂️ Install Wizard above.\")"
   ]
  },
  {
   "attachments": {},
   "cell_type": "markdown",
   "id": "7812550d",
   "metadata": {},
   "source": [
    "The following code is demonstrate how to login to the Domain server. "
   ]
  },
  {
   "cell_type": "code",
   "execution_count": 45,
   "id": "3f71bae4",
   "metadata": {},
   "outputs": [
    {
     "name": "stdout",
     "output_type": "stream",
     "text": [
      "Connecting to 192.168.31.57... done! \t Logging into nervous_lecun... done!\n",
      "\n",
      "**Warning**: The syft version on your system and the node are different.\n",
      "Version on your system: 0.6.0\n",
      "Version on the node: 0.7.0-beta.62\n",
      "\n"
     ]
    }
   ],
   "source": [
    "try:\n",
    "   domain_client = sy.login(\n",
    "      port=8082,\n",
    "      email=\"info@openmined.org\",\n",
    "      password=\"Alextsai0429!\",\n",
    "      url=\"192.168.31.57\"\n",
    "   )\n",
    "except Exception as e:\n",
    "   print(\"Unable to login. Please check your domain is up with `!hagrid check localhost:8081`\")"
   ]
  },
  {
   "attachments": {},
   "cell_type": "markdown",
   "id": "b146ad50",
   "metadata": {},
   "source": [
    "Fetch all available network"
   ]
  },
  {
   "cell_type": "code",
   "execution_count": 46,
   "id": "7fdbe2da",
   "metadata": {},
   "outputs": [
    {
     "name": "stdout",
     "output_type": "stream",
     "text": [
      "                                             "
     ]
    },
    {
     "data": {
      "text/html": [
       "(no networks online - try syft.networks.all_networks to see offline networks)"
      ],
      "text/plain": [
       "<syft.registry.NetworkRegistry at 0xffff363f9cd0>"
      ]
     },
     "execution_count": 46,
     "metadata": {},
     "output_type": "execute_result"
    }
   ],
   "source": [
    "\n",
    "sy.networks"
   ]
  }
 ],
 "metadata": {
  "kernelspec": {
   "display_name": "Python 3",
   "language": "python",
   "name": "python3"
  },
  "language_info": {
   "codemirror_mode": {
    "name": "ipython",
    "version": 3
   },
   "file_extension": ".py",
   "mimetype": "text/x-python",
   "name": "python",
   "nbconvert_exporter": "python",
   "pygments_lexer": "ipython3",
   "version": "3.8.9 (default, Apr 13 2022, 08:48:06) \n[Clang 13.1.6 (clang-1316.0.21.2.5)]"
  },
  "vscode": {
   "interpreter": {
    "hash": "31f2aee4e71d21fbe5cf8b01ff0e069b9275f58929596ceb00d14d90e3e16cd6"
   }
  }
 },
 "nbformat": 4,
 "nbformat_minor": 5
}
